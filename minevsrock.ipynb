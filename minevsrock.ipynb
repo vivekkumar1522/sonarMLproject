{
 "cells": [
  {
   "cell_type": "code",
   "execution_count": null,
   "id": "70eb7cb2",
   "metadata": {},
   "outputs": [],
   "source": [
    "import numpy as np\n",
    "import pandas as pd\n",
    "from sklearn.model_selection import train_test_split\n",
    "from sklearn.linear_model import LogisticRegression\n",
    "from sklearn.metrics import accuracy_score"
   ]
  },
  {
   "cell_type": "code",
   "execution_count": null,
   "id": "5cecd481",
   "metadata": {},
   "outputs": [],
   "source": [
    "import pandas as pd\n",
    "sonard = pd.read_csv('sonardata.csv', header = None)\n",
    "print(sonard.head())\n",
    "sonard.shape #no of rows and columns\n",
    "sonard.describe() # describe give styastical methods\n",
    "sonard[60].value_counts() \n"
   ]
  },
  {
   "cell_type": "markdown",
   "id": "60708236",
   "metadata": {},
   "source": [
    "m represents mine\n",
    "r represents rock"
   ]
  },
  {
   "cell_type": "code",
   "execution_count": null,
   "id": "506f601a",
   "metadata": {},
   "outputs": [],
   "source": [
    "sonard.groupby(60).mean()"
   ]
  },
  {
   "cell_type": "code",
   "execution_count": null,
   "id": "1d6002e9",
   "metadata": {},
   "outputs": [],
   "source": [
    "#separating data and labels\n",
    "X = sonard.drop(columns=60,axis = 1)\n",
    "Y = sonard[60]\n",
    "print(X)\n",
    "print(Y)"
   ]
  },
  {
   "cell_type": "markdown",
   "id": "66199d59",
   "metadata": {},
   "source": [
    "testing and test data\n"
   ]
  },
  {
   "cell_type": "code",
   "execution_count": null,
   "id": "1beaa736",
   "metadata": {},
   "outputs": [],
   "source": [
    "from sklearn.model_selection import train_test_split\n",
    "x_train,x_test,y_train,y_test = train_test_split(X,Y,test_size = 0.1 , stratify=Y , random_state=1) \n",
    "print(X.shape , x_train.shape , x_test.shape)"
   ]
  },
  {
   "cell_type": "code",
   "execution_count": null,
   "id": "18890881",
   "metadata": {},
   "outputs": [],
   "source": [
    "print(x_train)\n",
    "print(y_train)"
   ]
  },
  {
   "cell_type": "markdown",
   "id": "afe0bcb4",
   "metadata": {},
   "source": [
    "model training == logistic regression"
   ]
  },
  {
   "cell_type": "code",
   "execution_count": null,
   "id": "0085b50f",
   "metadata": {},
   "outputs": [],
   "source": [
    "from sklearn.linear_model import LogisticRegression\n",
    "model = LogisticRegression()\n",
    "#training the logistic regression with training dara\n",
    "\n",
    "model.fit(x_train , y_train)"
   ]
  },
  {
   "cell_type": "markdown",
   "id": "db1df54e",
   "metadata": {},
   "source": [
    "model evalution"
   ]
  },
  {
   "cell_type": "code",
   "execution_count": 23,
   "id": "4d5799dc",
   "metadata": {},
   "outputs": [
    {
     "name": "stdout",
     "output_type": "stream",
     "text": [
      "accuracy score 0.8342245989304813\n"
     ]
    }
   ],
   "source": [
    "#accuracy on the training data\n",
    "from sklearn.metrics import accuracy_score\n",
    "x_train_prediction = model.predict(x_train)\n",
    "train_data_accuracy = accuracy_score(x_train_prediction , y_train)\n",
    "print('accuracy score',train_data_accuracy )"
   ]
  },
  {
   "cell_type": "code",
   "execution_count": 24,
   "id": "22b941e6",
   "metadata": {},
   "outputs": [
    {
     "name": "stdout",
     "output_type": "stream",
     "text": [
      "accuracy score on test data 0.7619047619047619\n"
     ]
    }
   ],
   "source": [
    "#accuracy on the test data\n",
    "from sklearn.metrics import accuracy_score\n",
    "x_test_prediction = model.predict(x_test)\n",
    "test_data_accuracy = accuracy_score(x_test_prediction , y_test)\n",
    "print('accuracy score on test data',test_data_accuracy )"
   ]
  },
  {
   "cell_type": "markdown",
   "id": "aa49397a",
   "metadata": {},
   "source": [
    "makina predictive system"
   ]
  },
  {
   "cell_type": "code",
   "execution_count": 40,
   "id": "3d26c75e",
   "metadata": {},
   "outputs": [
    {
     "name": "stdout",
     "output_type": "stream",
     "text": [
      "['R']\n",
      "it is a rock\n"
     ]
    }
   ],
   "source": [
    "\n",
    "input_data =(0.0262,0.0582,0.1099,0.1083,0.0974,0.2280,0.2431,0.3771,0.5598,0.6194,0.6333,0.7060,0.5544,0.5320,0.6479,0.6931,0.6759,0.7551,0.8929,0.8619,0.7974,0.6737,0.4293,0.3648,0.5331,0.2413,0.5070,0.8533,0.6036,0.8514,0.8512,0.5045,0.1862,0.2709,0.4232,0.3043,0.6116,0.6756,0.5375,0.4719,0.4647,0.2587,0.2129,0.2222,0.2111,0.0176,0.1348,0.0744,0.0130,0.0106,0.0033,0.0232,0.0166,0.0095,0.0180,0.0244,0.0316,0.0164,0.0095,0.0078,)\n",
    "input_data2 =(0.0408,0.0653,0.0397,0.0604,0.0496,0.1817,0.1178,0.1024,0.0583,0.2176,0.2459,0.3332,0.3087,0.2613,0.3232,0.3731,0.4203,0.5364,0.7062,0.8196,0.8835,0.8299,0.7609,0.7605,0.8367,0.8905,0.7652,0.5897,0.3037,0.0823,0.2787,0.7241,0.8032,0.8050,0.7676,0.7468,0.6253,0.1730,0.2916,0.5003,0.5220,0.4824,0.4004,0.3877,0.1651,0.0442,0.0663,0.0418,0.0475,0.0235,0.0066,0.0062,0.0129,0.0184,0.0069,0.0198,0.0199,0.0102,0.0070,0.0055)\n",
    "#changing the input data to numpy array \n",
    "import numpy as np\n",
    "input_data_as_numpy_array = np.asarray(input_data2)\n",
    "\n",
    "#reshape the numpy array as we are predicting for one instance\n",
    "input_data_reshaped = input_data_as_numpy_array.reshape(1,-1)\n",
    "prediction = model.predict(input_data_reshaped)\n",
    "print(prediction)\n",
    "\n",
    "if (prediction[0] == 'R'):\n",
    "    print(\"it is a rock\")\n",
    "else:\n",
    "    print(\"it is a mine \")    "
   ]
  }
 ],
 "metadata": {
  "kernelspec": {
   "display_name": "Python 3",
   "language": "python",
   "name": "python3"
  },
  "language_info": {
   "codemirror_mode": {
    "name": "ipython",
    "version": 3
   },
   "file_extension": ".py",
   "mimetype": "text/x-python",
   "name": "python",
   "nbconvert_exporter": "python",
   "pygments_lexer": "ipython3",
   "version": "3.9.13"
  }
 },
 "nbformat": 4,
 "nbformat_minor": 5
}
